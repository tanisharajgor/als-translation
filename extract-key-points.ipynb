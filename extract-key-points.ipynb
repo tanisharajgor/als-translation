{
 "cells": [
  {
   "cell_type": "code",
   "execution_count": 1,
   "metadata": {},
   "outputs": [
    {
     "name": "stdout",
     "output_type": "stream",
     "text": [
      "Requirement already satisfied: dlib in /Library/Frameworks/Python.framework/Versions/3.10/lib/python3.10/site-packages (19.24.2)\n",
      "\n",
      "\u001b[1m[\u001b[0m\u001b[34;49mnotice\u001b[0m\u001b[1;39;49m]\u001b[0m\u001b[39;49m A new release of pip is available: \u001b[0m\u001b[31;49m23.0.1\u001b[0m\u001b[39;49m -> \u001b[0m\u001b[32;49m24.0\u001b[0m\n",
      "\u001b[1m[\u001b[0m\u001b[34;49mnotice\u001b[0m\u001b[1;39;49m]\u001b[0m\u001b[39;49m To update, run: \u001b[0m\u001b[32;49mpython3.10 -m pip install --upgrade pip\u001b[0m\n",
      "Note: you may need to restart the kernel to use updated packages.\n"
     ]
    }
   ],
   "source": [
    "pip install dlib"
   ]
  },
  {
   "cell_type": "code",
   "execution_count": null,
   "metadata": {},
   "outputs": [],
   "source": [
    "pip install pandas"
   ]
  },
  {
   "cell_type": "code",
   "execution_count": 33,
   "metadata": {},
   "outputs": [
    {
     "name": "stdout",
     "output_type": "stream",
     "text": [
      "{'69241': 'book', '69302': 'drink', '12306': 'computer', '05724': 'before', '09847': 'chair', '24857': 'go', '11305': 'clothes', '63219': 'who', '08909': 'candy', '65415': 'cousin', '14855': 'deaf', '65717': 'fine', '27194': 'help', '38482': 'no', '57919': 'thin', '62152': 'walk', '64201': 'year', '64275': 'yes', '01912': 'all', '06455': 'black', '69281': 'cool', '21933': 'finish', '28074': 'hot', '69389': 'like', '34822': 'many', '36927': 'mother', '38982': 'now', '40114': 'orange', '56552': 'table', '69092': 'thanksgiving', '62944': 'what', '63662': 'woman', '05628': 'bed', '06822': 'blue', '07383': 'bowling', '69257': 'can', '17076': 'dog', '20976': 'family', '22109': 'fish', '25318': 'graduate', '26688': 'hat', '65884': 'hearing', '31746': 'kiss', '32146': 'language', '32319': 'later', '34685': 'man', '51054': 'shirt', '55356': 'study', '56835': 'tall', '63191': 'white', '64082': 'wrong', '00618': 'accident', '02997': 'apple', '06326': 'bird', '09945': 'change', '11752': 'color', '13309': 'corn', '13681': 'cow', '14621': 'dance', '14669': 'dark', '17007': 'doctor', '18316': 'eat', '19255': 'enjoy', '65761': 'forget', '69343': 'give', '66010': 'last', '35506': 'meet', '42827': 'pink', '42953': 'pizza', '69433': 'play', '49577': 'school', '50036': 'secretary', '51206': 'short', '58488': 'time', '62241': 'want', '63769': 'work', '01382': 'africa', '05227': 'basketball', '06355': 'birthday', '07957': 'brown', '08421': 'but', '10146': 'cheat', '10888': 'city', '13154': 'cook', '15031': 'decide', '65792': 'full', '28187': 'how', '30830': 'jacket', '66038': 'letter', '66111': 'medicine', '37879': 'need', '40816': 'paint', '41008': 'paper', '45252': 'pull', '45432': 'purple', '68142': 'right', '49173': 'same', '53258': 'son', '57273': 'tell', '58359': 'thursday', '61804': 'visit', '62077': 'wait', '62479': 'water', '63325': 'wife', '64260': 'yellow', '04614': 'backpack', '65137': 'bar', '07929': 'brother', '09431': 'cat', '65343': 'check', '10965': 'class', '14172': 'cry', '16190': 'different', '17317': 'door', '25674': 'green', '26122': 'hair', '26757': 'have', '26832': 'headache', '29628': 'inform', '31841': 'knife', '32373': 'laugh', '32598': 'learn', '37120': 'movie', '45835': 'rabbit', '46260': 'read', '46712': 'red', '48507': 'room', '48797': 'run', '66473': 'show', '51494': 'sick', '52834': 'snow', '56652': 'take', '57034': 'tea', '57037': 'teacher', '62728': 'week', '63279': 'why', '63574': 'with', '64049': 'write', '64303': 'yesterday', '01457': 'again', '04694': 'bad', '04833': 'ball', '05296': 'bathroom', '06550': 'blanket', '08478': 'buy', '65290': 'call', '11552': 'coffee', '65377': 'cold', '11704': 'college', '13258': 'copy', '14450': 'cute', '14748': 'daughter', '20064': 'example', '21052': 'far', '22071': 'first', '23567': 'friend', '25037': 'good', '26506': 'happy', '27762': 'home', '31896': 'know', '32298': 'late', '32673': 'leave', '33450': 'list', '34002': 'lose', '37575': 'name', '39604': 'old', '42196': 'person', '43519': 'police', '44677': 'problem', '47174': 'remember', '50846': 'share', '53290': 'soon', '54548': 'stay', '55768': 'sunday', '57519': 'test', '58588': 'tired', '59203': 'trade', '59479': 'travel', '63415': 'window', '64351': 'you', '00412': 'about', '03117': 'approve', '03434': 'arrive', '04790': 'balance', '04895': 'banana', '68990': 'beard', '05595': 'because', '07436': 'boy', '08363': 'business', '09178': 'careful', '09719': 'center', '10099': 'chat', '68800': 'children', '10696': 'christmas', '11197': 'clock', '11252': 'close', '13133': 'convince', '13542': 'country', '69284': 'crash', '14780': 'day', '16581': 'discuss', '65535': 'dress', '17751': 'drive', '65544': 'drop', '65692': 'fat', '21425': 'feel', '22798': 'football', '23945': 'future', '24023': 'game', '24590': 'girl', '25240': 'government', '26938': 'hear', '27254': 'here', '27917': 'hope', '28157': 'house', '28461': 'husband', '65950': 'interest', '31147': 'join', '66069': 'light', '33537': 'live', '34558': 'make', '70217': 'mean', '36826': 'more', '36912': 'most', '37356': 'music', '38103': 'new', '38585': 'none', '39454': 'office', '66248': 'order', '66261': 'pants', '41306': 'party', '68380': 'past', '41819': 'pencil', '43037': 'plan', '43213': 'please', '44080': 'practice', '44364': 'president', '47655': 'restaurant', '48038': 'ride', '48898': 'russia', '49127': 'salt', '49244': 'sandwich', '66478': 'sign', '51772': 'since', '52550': 'small', '53190': 'some', '53453': 'south', '55332': 'student', '57035': 'teach', '57781': 'theory', '58782': 'tomato', '59298': 'train', '60345': 'ugly', '62267': 'war', '63079': 'where', '64423': 'your', '02227': 'always', '02581': 'animal', '03266': 'argue', '04484': 'baby', '69218': 'back', '04764': 'bake', '05270': 'bath', '05800': 'behind', '07803': 'bring', '69262': 'catch', '09773': 'cereal', '09914': 'champion', '10260': 'cheese', '13467': 'cough', '13850': 'crazy', '15317': 'delay', '15363': 'delicious', '16437': 'disappear', '16961': 'divorce', '65531': 'draw', '18270': 'east', '18301': 'easy', '18485': 'egg', '19402': 'environment', '21202': 'father', '21272': 'fault', '22537': 'flower', '23579': 'friendly', '24718': 'glasses', '26250': 'halloween', '26559': 'hard', '27013': 'heart', '28134': 'hour', '28306': 'humble', '28423': 'hurry', '29134': 'improve', '30227': 'internet', '69380': 'jump', '31641': 'kill', '66017': 'law', '66106': 'match', '35353': 'meat', '36044': 'milk', '36645': 'money', '36732': 'month', '36774': 'moon', '66151': 'move', '37773': 'near', '37983': 'nephew', '38281': 'nice', '38314': 'niece', '38614': 'noon', '38654': 'north', '38765': 'not', '39087': 'nurse', '39402': 'off', '39582': 'ok', '66270': 'patient', '41578': 'pay', '42242': 'perspective', '43922': 'potato', '48965': 'sad', '49327': 'saturday', '49367': 'save', '49652': 'scissors', '50035': 'secret', '51128': 'shoes', '66468': 'shop', '51702': 'silly', '51882': 'sister', '52314': 'sleep', '53363': 'sorry', '55035': 'straight', '69499': 'sweet', '56800': 'talk', '57298': 'temperature', '57430': 'tent', '57653': 'thank you', '57954': 'think', '58286': 'throw', '58676': 'today', '59238': 'traffic', '60543': 'understand', '61031': 'use', '61913': 'voice', '61977': 'vomit', '61991': 'vote', '62706': 'wednesday', '62901': 'west', '62921': 'wet', '63062': 'when', '63102': 'which', '66789': 'win', '63750': 'word', '01429': 'afternoon', '01482': 'age', '02102': 'alone', '03053': 'appointment', '04183': 'australia', '04341': 'avoid', '04866': 'balloon', '05193': 'basement', '69226': 'bear', '05852': 'believe', '06062': 'better', '06643': 'blind', '65229': 'bored', '07369': 'bowl', '07413': 'box', '07469': 'bracelet', '07593': 'bread', '08586': 'cafeteria', '69258': 'car', '10395': 'chicken', '10435': 'child', '10624': 'choose', '10768': 'church', '13169': 'cookie', '14276': 'cup', '14466': 'cut', '15092': 'decorate', '15153': 'deep', '15169': 'deer', '15527': 'dentist', '16402': 'dirty', '16889': 'dive', '17422': 'down', '17919': 'dry', '18145': 'ear', '18190': 'earn', '18218': 'earring', '18769': 'elephant', '19230': 'english', '19556': 'escape', '20362': 'expensive', '20434': 'explain', '65689': 'fast', '21689': 'fight', '69323': 'find', '22131': 'fishing', '22491': 'floor', '65748': 'fly', '22712': 'follow', '23637': 'from', '24405': 'get', '26491': 'happen', '27171': 'hello', '27580': 'hit', '68404': 'hospital', '28647': 'idea', '29064': 'important', '30467': 'investigate', '30927': 'japan', '30973': 'jealous', '31723': 'king', '31775': 'kitchen', '32200': 'large', '32281': 'last year', '32806': 'lemon', '32962': 'lettuce', '34955': 'marry', '35524': 'meeting', '66128': 'minute', '36259': 'mirror', '66131': 'miss', '36677': 'monkey', '36856': 'morning', '36991': 'motorcycle', '37849': 'necklace', '38081': 'never', '38176': 'newspaper', '38329': 'night', '39846': 'onion', '41920': 'people', '41937': 'pepper', '42419': 'phone', '42649': 'picture', '43335': 'plus', '66304': 'point', '43678': 'poor', '43828': 'possible', '45754': 'quiet', '45965': 'rain', '46287': 'ready', '47485': 'research', '49475': 'scared', '49627': 'science', '49689': 'score', '50407': 'sentence', '50834': 'shape', '51901': 'sit', '52502': 'slow', '52707': 'snake', '52913': 'soap', '53023': 'soda', '53693': 'speech', '54413': 'star', '54819': 'stink', '55298': 'struggle', '55312': 'stubborn', '66581': 'sunset', '56080': 'surgery', '57815': 'there', '58443': 'tiger', '66652': 'toast', '58731': 'toilet', '58804': 'tomorrow', '59143': 'town', '59366': 'transfer', '59540': 'tree', '59760': 'truck', '60450': 'uncle', '61141': 'vacation', '62637': 'weather', '62729': 'weekend', '00588': 'accept', '01194': 'adult', '01411': 'after', '01551': 'ago', '02041': 'allow', '02348': 'america', '02539': 'angel', '02707': 'answer', '02818': 'any', '65091': 'area', '03469': 'art', '03625': 'asl', '04165': 'aunt', '04422': 'awful', '04436': 'awkward', '04678': 'bacon', '65139': 'bark', '05651': 'bedroom', '05699': 'beer', '05921': 'belt', '06176': 'big', '06425': 'bitter', '07258': 'both', '08608': 'cake', '08669': 'california', '08840': 'canada', '69259': 'carrot', '09570': 'cause', '09891': 'challenge', '10134': 'cheap', '10577': 'chocolate', '11030': 'clean', '11356': 'cloud', '12111': 'compare', '12222': 'complex', '12870': 'contact', '12967': 'continue', '13311': 'corner', '13349': 'correct', '14374': 'curse', '14829': 'dead', '15421': 'demand', '15594': 'depend', '65467': 'desert', '15769': 'desk', '15932': 'develop', '16123': 'dictionary', '17122': 'doll', '65554': 'duty', '18271': 'easter', '18521': 'egypt', '18785': 'elevator', '18873': 'email', '19103': 'end', '19325': 'enter', '19679': 'europe', '19752': 'event', '20137': 'exchange', '20374': 'experience', '20693': 'face', '20792': 'fail', '21393': 'feed', '21548': 'few', '22269': 'flag', '22739': 'food', '22836': 'for', '23042': 'form', '23439': 'freeze', '23541': 'friday', '70163': 'front', '24580': 'giraffe', '24909': 'god', '25370': 'grammar', '25404': 'grandfather', '69352': 'great', '25640': 'greece', '65864': 'guess', '25975': 'guitar', '26312': 'hammer', '27150': 'helicopter', '27387': 'high', '27568': 'history', '28375': 'hungry', '28438': 'hurt', '30383': 'introduce', '30453': 'invest', '32509': 'lazy', '33048': 'library', '66067': 'lie', '33638': 'lobster', '34118': 'love', '66090': 'lucky', '34385': 'magazine', '66108': 'measure', '35944': 'microwave', '37464': 'my', '37945': 'neighbor', '39031': 'number', '69421': 'one', '40463': 'outside', '41661': 'peach', '42695': 'pig', '43570': 'polite', '43900': 'postpone', '44034': 'power', '66325': 'present', '44469': 'price', '44598': 'prison', '45474': 'push', '45852': 'raccoon', '46339': 'really', '46425': 'reason', '47103': 'religion', '47602': 'respect', '48738': 'rule', '49073': 'salad', '49537': 'schedule', '50263': 'sell', '50502': 'serious', '51325': 'shower', '51813': 'single', '52570': 'smart', '52613': 'smile', '53046': 'soft', '53413': 'sound', '53427': 'soup', '53543': 'spain', '54069': 'spray', '54204': 'squirrel', '54870': 'stomach', '54991': 'story', '55069': 'strange', '55145': 'street', '55169': 'stress', '55197': 'strict', '55274': 'strong', '55656': 'sugar', '55730': 'summer', '56157': 'suspect', '56294': 'sweetheart', '57131': 'tease', '57669': 'that', '57757': 'themselves', '57801': 'therapy', '58023': 'thirsty', '58384': 'ticket', '58933': 'top', '59902': 'tuesday', '59953': 'turkey', '60759': 'university', '60850': 'until', '62458': 'watch', '62584': 'weak', '62684': 'wedding', '63358': 'will', '63399': 'wind', '63830': 'world', '63872': 'worry', '63947': 'wow', '64401': 'young', '69205': 'add', '01721': 'airplane', '02158': 'already', '02173': 'also', '02473': 'analyze', '02517': 'and', '02564': 'angry', '02941': 'appear', '03328': 'arm', '03360': 'army', '03420': 'arrest', '65100': 'asia', '03587': 'ask', '04039': 'attitude', '04056': 'attract', '04814': 'bald', '65138': 'barely', '05165': 'baseball', '05756': 'beg', '05959': 'benefit', '06407': 'bite', '06526': 'blame', '06929': 'boat', '06941': 'body', '07226': 'borrow', '07236': 'boss', '07259': 'bother', '07284': 'bottle', '70166': 'bottom', '07490': 'brag', '08118': 'build', '08330': 'bus', '08439': 'butter', '08739': 'calm', '08858': 'cancel', '08897': 'candle', '09149': 'cards', '10588': 'choice', '11812': 'comb', '11900': 'comfortable', '65394': 'conflict', '13654': 'cover', '15556': 'deodorant', '15807': 'dessert', '15825': 'destroy', '16061': 'diamond', '17123': 'dollar', '17588': 'drawer', '17624': 'dream', '17907': 'drunk', '17945': 'duck', '18027': 'during', '18137': 'eagle', '18164': 'early', '19456': 'equal', '19798': 'every', '20152': 'excited', '65657': 'exercise', '20387': 'experiment', '20402': 'expert', '20736': 'fact', '21319': 'fear', '21394': 'feedback', '22683': 'fold', '22907': 'forest', '23326': 'france', '23626': 'frog', '23865': 'funny', '24056': 'garage', '24867': 'goal', '25003': 'golf', '25024': 'gone', '25182': 'gossip', '25428': 'grandmother', '25481': 'grapes', '25820': 'group', '65865': 'guilty', '26294': 'hamburger', '26697': 'hate', '26831': 'head', '27249': 'her', '27983': 'horse', '28772': 'ignore', '29087': 'impossible', '29171': 'in', '29380': 'independent', '29865': 'inside', '30051': 'insurance', '30674': 'island', '32692': 'lecture', '32885': 'lesson', '33303': 'limit', '33390': 'lion', '33451': 'listen', '34861': 'march', '35147': 'math', '69397': 'maybe', '35371': 'mechanic', '69399': 'mom', '37040': 'mouse', '37201': 'much', '37313': 'muscle', '37332': 'museum', '37395': 'must', '37396': 'mustache', '37909': 'negative', '38008': 'nervous', '38061': 'neutral', '38721': 'nose', '39503': 'often', '39984': 'operate', '40010': 'opinion', '40308': 'other', '66267': 'pass', '42752': 'pillow', '44267': 'prepare', '44422': 'pretty', '44491': 'priest', '44828': 'program', '44896': 'promise', '45494': 'put', '45684': 'queen', '45777': 'quit', '45905': 'radio', '46155': 'rat', '46997': 'reject', '47458': 'require', '47668': 'rest', '47782': 'retire', '48207': 'rise', '48249': 'river', '48603': 'rough', '50107': 'see', '50138': 'seem', '50328': 'send', '50719': 'sew', '50932': 'sheep', '51019': 'shine', '51094': 'shock', '51272': 'should', '51686': 'silent', '52168': 'skinny', '52197': 'skirt', '69477': 'sky', '53435': 'sour', '53640': 'special', '53899': 'spirit', '54255': 'staff', '54360': 'stand', '54586': 'steal', '54915': 'stop', '70371': 'stupid', '55745': 'summon', '55837': 'sunrise', '56191': 'swallow', '57260': 'television', '58629': 'to', '58705': 'together', '59404': 'translate', '59596': 'triangle', '60043': 'turtle', '66705': 'underwear', '60887': 'up', '60947': 'upset', '61737': 'violin', '61965': 'volunteer', '62285': 'warm', '62301': 'warn', '62329': 'wash', '63447': 'wine', '63621': 'witness', '63720': 'wood', '64543': 'zero', '00829': 'across', '00897': 'actor', '01572': 'agree', '01796': 'alarm', '65050': 'allergy', '02089': 'almost', '02618': 'announce', '02871': 'apartment', '04008': 'attention', '04110': 'audience', '04154': 'august', '04288': 'autumn', '04386': 'away', '05554': 'beautiful', '05614': 'become', '05910': 'below', '06014': 'best', '06039': 'bet', '06157': 'bicycle', '06312': 'biology', '07440': 'boyfriend', '07608': 'break', '07747': 'bridge', '65264': 'brush', '65269': 'building', '08410': 'busy', '08782': 'camera', '08799': 'camp', '65303': 'caption', '09197': 'care', '09317': 'carry', '09632': 'celebrate', '09805': 'certificate', '09834': 'chain', '09933': 'chance', '10014': 'character', '10088': 'chase', '11006': 'classroom', '11059': 'clear', '11142': 'climb', '11936': 'command', '12058': 'community', '12188': 'complain', '12290': 'compromise', '13015': 'contribute', '13244': 'cop', '13407': 'cost', '13455': 'couch', '13743': 'cracker', '14311': 'curious', '14365': 'curriculum', '69289': 'dad', '15546': 'deny', '15705': 'describe', '16076': 'diaper', '16095': 'diarrhea', '16427': 'disagree', '16803': 'dissolve', '16922': 'divide', '17159': 'dolphin', '17374': 'double', '17388': 'doubt', '17981': 'dumb', '18239': 'earth', '18253': 'earthquake', '69309': 'eight', '18887': 'embarrass', '18970': 'emotion', '19086': 'encourage', '19164': 'energy', '19304': 'enough', '19703': 'evaluate', '19966': 'evidence', '20007': 'exact', '20020': 'exaggerate', '20327': 'expect', '21022': 'fancy', '21302': 'favorite', '21828': 'finally', '23273': 'fox', '23479': 'french', '23708': 'fruit', '65796': 'function', '24165': 'gather', '24376': 'germany', '24822': 'gloves', '24883': 'goat', '25041': 'goodbye', '69354': 'grow', '26001': 'gum', '26203': 'half', '26797': 'hawaii', '27312': 'herself', '27444': 'highway', '27788': 'homework', '27881': 'honor', '28581': 'ice cream', '28734': 'if', '29324': 'increase', '29399': 'india', '29631': 'information', '30252': 'interpret', '30311': 'interview', '30509': 'invite', '30706': 'israel', '31047': 'jesus', '31481': 'keep', '31553': 'keyboard', '69382': 'land', '32473': 'lawyer', '66020': 'lead', '32858': 'lesbian', '69390': 'line', '33677': 'lock', '34086': 'loud', '34109': 'lousy', '70028': 'lunch', '34352': 'machine', '34365': 'mad', '35603': 'memorize', '36228': 'minus', '70023': 'monday', '37013': 'mountain', '37061': 'mouth', '37343': 'mushroom', '37610': 'napkin', '37836': 'neck', '38222': 'next', '39343': 'ocean', '39959': 'open', '40629': 'overwhelm', '40649': 'owe', '40759': 'page', '40797': 'pain', '41062': 'parade', '41163': 'parents', '42003': 'perfect', '66279': 'period', '42398': 'philosophy', '42469': 'photographer', '42983': 'place', '43552': 'policy', '43725': 'popular', '44119': 'pray', '44199': 'predict', '44319': 'presentation', '44556': 'print', '44557': 'printer', '44618': 'private', '44732': 'procrastinate', '44859': 'project', '45059': 'protect', '45097': 'prove', '45108': 'provide', '45169': 'psychology', '45362': 'punish', '45570': 'puzzled', '45711': 'question', '45739': 'quick', '45966': 'rainbow', '46053': 'rake', '46956': 'rehearse', '47236': 'remove', '47857': 'revenge', '47898': 'review', '48019': 'rich', '48487': 'roof', '48537': 'rooster', '48705': 'rude', '49427': 'say', '49643': 'scientist', '49726': 'scotland', '49803': 'screwdriver', '66439': 'second', '50316': 'senate', '50427': 'separate', '50546': 'service', '51398': 'shrimp', '51474': 'shy', '51530': 'side', '51932': 'situation', '52287': 'slave', '52937': 'soccer', '66527': 'socks', '53152': 'solid', '53239': 'sometimes', '53824': 'spider', '53872': 'spin', '54168': 'square', '66552': 'stairs', '54419': 'stare', '54454': 'start', '69489': 'store', '55101': 'straw', '55287': 'structure', '55669': 'suggest', '55810': 'sun', '55970': 'support', '55993': 'suppose', '56025': 'sure', '56099': 'surprise', '56254': 'sweater', '56340': 'swim', '56460': 'symbol', '56969': 'taste', '57089': 'team', '57235': 'telephone', '57408': 'tennis', '57724': 'their', '57769': 'then', '57837': 'thermometer', '57921': 'thing', '58000': 'third', '58131': 'thousand', '69508': 'three', '66642': 'tie', '58945': 'topic', '59044': 'touch', '59102': 'tournament', '59847': 'try', '69521': 'two', '60304': 'type', '60378': 'umbrella', '61364': 'vegetable', '61878': 'vocabulary', '62422': 'waste', '62583': 'we', '62607': 'wear', '62753': 'weekly', '62826': 'welcome', '63494': 'winter', '63605': 'without', '63650': 'wolf', '69541': 'worm', '64041': 'wristwatch', '64444': 'yourself', '00429': 'above', '00662': 'accomplish', '01149': 'adopt', '01242': 'advantage', '02143': 'alphabet', '02607': 'anniversary', '02696': 'another', '03100': 'appropriate', '70258': 'arrogant', '03514': 'artist', '04579': 'background', '05667': 'bee', '05792': 'behavior', '05869': 'bell', '06346': 'birth', '06622': 'bless', '06723': 'blood', '65226': 'boots', '07574': 'brave', '65256': 'breathe', '07779': 'bright', '08166': 'bull', '08441': 'butterfly', '65304': 'card', '09487': 'category', '09517': 'catholic', '65323': 'cent', '10305': 'chemistry', '10335': 'cherry', '10514': 'china', '65355': 'chop', '10685': 'christian', '65359': 'cigarette', '11087': 'clever', '11376': 'clown', '11436': 'coach', '69271': 'coat', '11497': 'cochlear implant', '65374': 'coconut', '12011': 'common', '12071': 'commute', '13040': 'control', '13513': 'count', '14253': 'culture', '65433': 'daily', '15209': 'defend', '15292': 'degree', '15473': 'demonstrate', '15576': 'department', '16155': 'die', '16225': 'dig', '16330': 'dinner', '16332': 'dinosaur', '16350': 'diploma', '16382': 'director', '65489': 'disconnect', '16560': 'discover', '65518': \"don't want\", '17895': 'drum', '18108': 'each', '18413': 'educate', '18719': 'electrician', '19044': 'empty', '19218': 'england', '19611': 'establish', '20197': 'excuse', '20621': 'eyeglasses', '20765': 'faculty', '20922': 'fall in love', '21008': 'famous', '69317': 'farm', '21486': 'fence', '69327': 'fix', '22408': 'flexible', '22453': 'flirt', '22479': 'flood', '23002': 'fork', '69333': 'four', '23799': 'fun', '23838': 'funeral', '23900': 'furniture', '23986': 'gallaudet', '24249': 'general', '24514': 'ghost', '24679': 'give up', '69344': 'glass', '25166': 'gorilla', '25568': 'gray', '25939': 'guide', '26079': 'habit', '26906': 'health', '26958': 'hearing aid', '27085': 'heaven', '27093': 'heavy', '27185': 'helmet', '68860': 'hide', '27432': 'high school', '65895': 'hockey', '27662': 'hold', '27821': 'honest', '28248': 'hug', '28386': 'hunt', '28875': 'image', '65939': 'influence', '68308': 'interesting', '30256': 'interpreter', '30559': 'iran', '30748': 'italy', '31092': 'jewish', '31251': 'judge', '65989': 'key', '31975': 'label', '32552': 'leaf', '66028': 'left', '32822': 'lend', '32869': 'less', '33373': 'linguistics', '33765': 'lonely', '33804': 'long', '34396': 'magic', '34508': 'mainstream', '34543': 'major', '34698': 'manager', '35207': 'maximum', '35267': 'me', '35885': 'mexico', '35962': 'middle', '66123': 'mind', '36413': 'misunderstand', '36712': 'monster', '37266': 'multiply', '37483': 'myself', '38828': 'nothing', '39359': 'october', '39377': 'odd', '39424': 'offer', '39672': 'on', '39873': 'only', '40049': 'opposite', '70053': 'out', '40576': 'overlook', '41477': 'path', '41970': 'percent', '42551': 'physics', '42564': 'piano', '42577': 'pick', '42662': 'pie', '43110': 'plate', '43375': 'pocket', '43695': 'popcorn', '43808': 'positive', '44232': 'pregnant', '44440': 'prevent', '66341': 'proof', '45323': 'pumpkin', '45447': 'purpose', '45864': 'race', '46326': 'realize', '46587': 'recognize', '46862': 'refuse', '47037': 'relationship', '47295': 'repeat', '47329': 'replace', '47348': 'report', '47371': 'represent', '47449': 'request', '47638': 'responsibility', '47729': 'result', '47837': 'reveal', '48159': 'ring', '48304': 'rob', '48378': 'rock', '48403': 'role', '48556': 'rope', '48885': 'rush', '49148': 'salute', '49317': 'satisfy', '49931': 'search', '50243': 'selfish', '50397': 'sensitive', '50528': 'serve', '69463': 'seven', '50825': 'shampoo', '50918': 'she', '50956': 'shelf', '51197': 'shopping', '51657': 'sign language', '51737': 'similar', '51787': 'sing', '69474': 'six', '52081': 'skeleton', '52102': 'sketch', '52137': 'skill', '52344': 'sleepy', '66507': 'slip', '52602': 'smell', '52763': 'sneeze', '52792': 'snob', '53664': 'specific', '54341': 'stamp', '54607': 'steel', '69492': 'strawberry', '66577': 'subtract', '55552': 'subway', '55633': 'suffer', '56046': 'surface', '56288': 'sweep', '56387': 'swing', '56422': 'switzerland', '56779': 'tale', '56870': 'tan', '57203': 'teeth', '57482': 'terrible', '57611': 'thankful', '57873': 'they', '58273': 'through', '58574': 'tiptoe', '58619': 'title', '58886': 'tooth', '58893': 'toothbrush', '59028': 'total', '59070': 'tough', '59225': 'tradition', '59722': 'trophy', '59734': 'trouble', '59783': 'true', '59827': 'trust', '60500': 'under', '61439': 'verb', '62187': 'wall', '62515': 'watermelon', '62569': 'way', '62817': 'weird', '63116': 'while', '63308': 'wide', '63376': 'willing', '63555': 'wish', '63688': 'wonderful', '63820': 'workshop', '63884': 'worse', '64000': 'wrench', '00295': 'a', '02123': 'a lot', '00333': 'abdomen', '00374': 'able', '65011': 'accountant', '65015': 'action', '00867': 'active', '00886': 'activity', '01011': 'address', '01318': 'affect', '01372': 'afraid', '01472': 'against', '01504': 'agenda', '01596': 'ahead', '01642': 'aim', '01828': 'alcohol', '01873': 'algebra', '01921': 'all day', '65063': 'amazing', '02556': 'angle', '02863': 'apart', '65082': 'apostrophe', '02968': 'appetite', '03067': 'appreciate', '03150': 'april', '03199': 'archery', '03380': 'around', '03489': 'article', '03752': 'assistant', '03992': 'attend', '04097': 'auction', '04225': 'authority', '04323': 'average', '04354': 'awake', '66040': 'b', '04530': 'babysitter', '05366': 'battle', '05776': 'beginning', '05844': 'belief', '06146': 'bible', '06214': 'bike', '06602': 'blend', '07032': 'bone', '07467': 'bra', '07765': 'brief', '07872': 'broke', '65267': 'bug', '08179': 'bully', '08467': 'button', '08532': 'cabbage', '70081': 'cabinet', '08624': 'calculate', '08634': 'calculator', '08642': 'calculus', '65293': 'camping', '08978': 'canoe', '09215': 'careless', '09620': 'ceiling', '09710': 'cemetery', '10004': 'chapter', '10599': 'choir', '10810': 'circle', '11839': 'come', '65558': 'come here', '12099': 'company', '12217': 'complete', '12400': 'concept', '12411': 'concern', '12602': 'confront', '65395': 'confused', '12648': 'congress', '12674': 'connect', '12694': 'conquer', '12806': 'constitution', '12986': 'contract', '13604': 'court', '13725': 'crab', '14047': 'cross', '14125': 'cruel', '14156': 'crush', '65442': 'date', '15017': 'december', '15118': 'decrease', '15139': 'deduct', '15182': 'defeat', '15631': 'deposit', '15647': 'depressed', '15840': 'detach', '15899': 'determine', '16001': 'diabetes', '16267': 'dime', '16392': 'dirt', '16634': 'disgust', '16699': 'dismiss', '16980': 'dizzy', '17031': 'document', '17352': 'dorm', '17360': 'dormitory', '17455': 'downstairs', '18370': 'economy', '18424': 'education', '18474': 'effort', '65614': 'eighteen', '65633': 'engage', '19190': 'engagement', '19199': 'engineer', '19392': 'envelope', '19502': 'erase', '19653': 'eternity', '19739': 'evening', '19812': 'everyday', '20310': 'expand', '20601': 'eye', '65667': 'eyes', '20860': 'fake', '21085': 'farmer', '21355': 'february', '21368': 'federal', '21816': 'final', '22509': 'florida', '22609': 'flute', '22840': 'forbid', '65760': 'forever', '23237': 'fourth', '23395': 'free', '23469': 'french fries', '24013': 'gamble', '65802': 'gas', '24130': 'gasoline', '24267': 'generation', '24328': 'geography', '24367': 'german', '24592': 'girlfriend', '24978': 'gold', '69349': 'grandma', '25503': 'grass', '25869': 'grow up', '26010': 'gun', '26135': 'haircut', '26584': 'hard of hearing', '27534': 'hippopotamus', '27552': 'his', '27835': 'honey', '28412': 'hurricane', '28673': 'identify', '29275': 'include', '29561': 'infection', '29789': 'innocent', '29841': 'insect', '29961': 'instead', '29976': 'institute', '30215': 'international', '30277': 'interrupt', '65962': 'involve', '30870': 'jail', '30917': 'january', '31177': 'joke', '31345': 'june', '31441': 'kangaroo', '31456': 'karate', '31588': 'kick', '31832': 'kneel', '31874': 'knock', '32189': 'laptop', '69387': 'lift', '33235': 'lightning', '33402': 'lip', '33422': 'lipstick', '33650': 'local', '34686': 'manage', '35188': 'mature', '35573': 'member', '35769': 'message', '35796': 'metal', '35922': 'microphone', '66133': 'mix', '36743': 'monthly', '69403': 'motor', '37669': 'nation', '38042': 'network', '38298': 'nickel', '66177': 'nineteen', '38642': 'normal', '38972': 'november', '39114': 'nut', '69417': 'octopus', '39674': 'once', '40226': 'organize', '40559': 'over', '40658': 'owl', '40701': 'p', '41054': 'parachute', '41077': 'paragraph', '41093': 'parallel', '41579': 'pay attention', '41643': 'peace', '41692': 'peanut butter', '42036': 'perfume', '42213': 'personality', '66283': 'pet', '42378': 'philadelphia', '42540': 'physician', '42663': 'piece', '42938': 'pity', '43078': 'plant', '43253': 'plenty', '43364': 'pneumonia', '43593': 'politics', '43799': 'position', '43986': 'pound', '43999': 'pour', '44096': 'praise', '44137': 'preach', '44140': 'preacher', '44213': 'prefer', '44394': 'pressure', '66331': 'principal', '44582': 'priority', '44776': 'professional', '44789': 'professor', '66340': 'promote', '45050': 'prostitute', '45089': 'proud', '45819': 'quote', '46489': 'receive', '66376': 'recent', '46750': 'reduce', '46773': 'refer', '46774': 'referee', '47025': 'relate', '47058': 'relax', '47220': 'remote control', '47269': 'rent', '47439': 'reputation', '47552': 'resign', '47645': 'responsible', '48072': 'ridiculous', '48264': 'road', '48339': 'robot', '48684': 'rubber', '48995': 'safe', '49341': 'sauce', '49357': 'sausage', '49666': 'scold', '50356': 'senior', '50449': 'september', '50703': 'several', '50809': 'shame', '50890': 'shave', '51160': 'shoot', '51273': 'shoulder', '51725': 'silver', '51747': 'simple', '66487': 'siren', '52045': 'size', '52053': 'skate', '52156': 'skin', '52213': 'skunk', '52372': 'slice', '52659': 'smooth', '52683': 'snack', '66520': 'snowman', '52990': 'society', '53217': 'someone', '53260': 'song', '53340': 'sore throat', '53457': 'south america', '66541': 'spanish', '53611': 'speak', '53733': 'speed', '69487': 'spell', '54001': 'spoon', '54116': 'spring', '54362': 'standard', '54529': 'statistics', '54761': 'sticky', '54787': 'still', '55188': 'stretch', '56072': 'surgeon', '56270': 'sweden', '56367': 'swimsuit', '56480': 'sympathy', '56762': 'take turns', '56770': 'take up', '57168': 'technology', '57321': 'temple', '57367': 'tender', '57596': 'thailand', '57705': 'theater', '57742': 'them', '57743': 'theme', '57899': 'thick', '58070': 'this', '58251': 'throat', '58610': 'tissue', '58819': 'tongue', '58833': 'tonight', '58968': 'tornado', '59131': 'tower', '59348': 'tranquil', '59379': 'transform', '60056': 'tutor', '68438': 'twin', '60720': 'united states', '61232': 'value', '61825': 'visitor', '62086': 'waiter', '62142': 'wake up', '66745': 'wallet', '67037': 'wander', '66748': 'wash face', '62790': 'weight', '69530': 'whale', '62951': 'whatever', '63597': 'within', '63687': 'wonder', '63779': 'worker', '63916': 'worthless', '69542': 'wrap', '00581': 'accent', '65014': 'act', '00943': 'adapt', '01062': 'adjective', '01073': 'adjust', '65020': 'admire', '65021': 'admit', '01224': 'advanced', '01263': 'adverb', '65037': 'agreement', '01621': 'aid', '02008': 'alligator', '02429': 'amputate', '02484': 'anatomy', '02634': 'annoy', '02850': 'anyway', '03089': 'approach', '03311': 'arizona', '03750': 'assist', '03797': 'assume', '04049': 'attorney', '04128': 'audiologist', '04135': 'audiology', '04200': 'austria', '04216': 'author', '04300': 'available', '04363': 'award', '04374': 'aware', '04971': 'bank', '05016': 'baptize', '05215': 'basic', '65149': 'battery', '05986': 'berry', '05997': 'beside', '06077': 'between', '06298': 'binoculars', '06787': 'blow', '06922': 'boast', '06967': 'boil', '07113': 'bookshelf', '07126': 'bookstore', '07425': 'boxing', '07506': 'braid', '07523': 'brain', '07611': 'breakdown', '07624': 'breakfast', '07699': 'breeze', '07715': 'bribe', '07860': 'brochure', '08087': 'buffalo', '08300': 'burp', '08338': 'bush', '08510': 'bye', '08772': 'camel', '08888': 'candidate', '65301': 'cannot', '09078': 'captain', '09256': 'carnival', '09501': 'caterpillar', '10249': 'cheerleader', '10295': 'chemical', '10388': 'chicago', '10608': 'choke', '10673': 'christ', '11103': 'click', '11292': 'closet', '11408': 'clueless', '11418': 'clumsy', '11686': 'collect', '11929': 'comma', '65382': 'comment', '11994': 'commit', '12004': 'committee', '12022': 'common sense', '12158': 'compete', '12387': 'concentrate', '12636': 'congratulations', '12749': 'consider', '12819': 'construct', '65398': 'consume', '12941': 'contest', '13087': 'conversation', '13106': 'convert', '13222': 'cooperate', '13498': 'counsel', '13507': 'counselor', '65420': 'crave', '67541': 'create', '65425': 'crocodile', '14101': 'crown', '14202': 'cuba', '14390': 'curtain', '14431': 'customer', '66042': 'd', '14601': 'damage', '14634': 'dancer', '14644': 'danger', '65438': 'dangerous', '14772': 'dawn', '14952': 'death', '14960': 'debate', '14978': 'debt', '15397': 'deliver', '15447': 'democrat', '15691': 'descend', '15741': 'design', '15874': 'detective', '15956': 'devil', '65478': 'dice', '16211': 'difficult', '16313': 'dining room', '16502': 'discipline', '16540': 'discount', '65492': 'disgusted', '16872': 'disturb', '16949': 'division', '69300': 'done', '17511': 'drag', '17529': 'dragon', '17557': 'drama', '17885': 'drug', '17958': 'due', '17968': 'dull', '18037': 'dusk', '18069': 'dvd', '18090': 'dye', '18107': 'e', '18640': 'either', '18727': 'electricity', '18755': 'elementary', '18854': 'else', '18939': 'emergency', '19198': 'engine', '19297': 'enormous', '19512': 'eraser', '19851': 'every monday', '19929': 'every tuesday', '19909': 'everything', '20108': 'except', '20256': 'exhibit', '20455': 'explode', '20508': 'express', '20670': 'f', '20836': 'fairy', '20965': 'familiar', '21524': 'festival', '21837': 'finance', '21925': 'fingerspell', '22015': 'fire', '65726': 'firefighter', '69326': 'five', '22356': 'flatter', '65754': 'fool', '22973': 'forgive', '23029': 'former', '23432': 'freeway', '23646': 'from now on', '23959': 'g', '24042': 'gang', '65804': 'gay', '24343': 'geometry', '65814': 'get up', '24539': 'gift', '25270': 'grab', '25350': 'graduation', '25521': 'grateful', '68502': 'grey', '26062': 'gymnastics', '26074': 'h', '65877': 'hang up', '26483': 'hanukkah', '65883': 'heap', '27017': 'heart attack', '27485': 'hill', '27752': 'holy', '27915': 'hop', '28050': 'host', '28085': 'hot dog', '28285': 'human', '28557': 'i', '28823': 'ill', '28811': 'illegal', '65925': 'impact', '29461': 'individual', '29897': 'inspect', '65943': 'inspire', '30297': 'intersection', '30582': 'ireland', '65964': 'iron', '30820': 'j', '31072': 'jewelry', '31216': 'journey', '31232': 'joy', '31297': 'july', '31436': 'k', '65991': 'kid', '31687': 'kindergarten', '32046': 'lady', '32092': 'lamp', '32275': 'last week', '32419': 'laundry', '32519': 'leader', '32561': 'league', '32575': 'leak', '32752': 'legal', '32902': 'let', '32999': 'liability', '33041': 'librarian', '33061': 'license', '33517': 'little bit', '33607': 'loan', '33848': 'look at', '33880': 'look for', '33979': 'lord', '34336': 'm', '35306': 'meaning', '35554': 'melody', '35566': 'melt', '35673': 'mention', '35932': 'microscope', '35994': 'midnight', '36036': 'military', '36139': 'mine', '36398': 'mistake', '36487': 'mock', '36801': 'moose', '36907': 'mosquito', '66148': 'motivate', '37302': 'murder', '37512': 'n', '37644': 'narrow', '37827': 'necessary', '37930': 'negotiate', '38206': 'new york', '66173': 'nine', '38700': 'northwest', '38944': 'not yet', '66193': 'notice', '39067': 'numerous', '39074': 'nun', '39147': 'o', '39197': 'objective', '66221': 'obsess', '39285': 'obtain', '39333': 'occur', '39386': 'odor', '39646': 'olympics', '40093': 'or', '40094': 'oral', '40340': 'our', '40527': 'overcome', '66258': 'pack', '40827': 'painter', '41256': 'part', '41559': 'pause', '41644': 'peaceful', '41704': 'pear', '41771': 'peel', '41810': 'penalty', '41895': 'pennsylvania', '41902': 'penny', '42136': 'permit', '42501': 'phrase', '42601': 'pickle', '42760': 'pilot', '43146': 'player', '43507': 'polar bear', '43536': 'policeman', '66311': 'poop', '43873': 'post', '43944': 'potential', '44018': 'poverty', '44166': 'precious', '44176': 'precipitation', '44183': 'precise', '44296': 'preschool', '44485': 'pride', '44522': 'prince', '44530': 'princess', '44548': 'principle', '44714': 'process', '44810': 'profit', '44842': 'progress', '44957': 'propaganda', '44969': 'proper', '45163': 'psychologist', '45186': 'public', '45218': 'publish', '45410': 'purchase', '45419': 'pure', '45467': 'pursue', '45524': 'put off', '45595': 'q', '45636': 'quality', '45651': 'quarrel', '45672': 'quarter', '45829': 'r', '45927': 'rage', '46164': 'rather', '46310': 'real', '46574': 'recliner', '46605': 'recommend', '46656': 'recover', '66383': 'regular', '47075': 'release', '47092': 'relief', '47135': 'rely', '47341': 'reply', '47478': 'rescue', '47565': 'resist', '47721': 'restroom', '47802': 'retreat', '48297': 'roar', '48305': 'robber', '66417': 'roommate', '48566': 'rose', '48729': 'ruin', '48933': 's', '49088': 'salary', '49411': 'saw', '67166': 'scan', '49776': 'scream', '49884': 'sculpture', '69459': 'sea', '50192': 'seldom', '50465': 'sequence', '50578': 'settle', '51299': 'shout', '51312': 'shovel', '51771': 'sin', '51795': 'singer', '66494': 'sixteen', '52114': 'ski', '52180': 'skip', '52651': 'smoking', '53035': 'sofa', '53119': 'soldier', '53177': 'solve', '53196': 'someday', '53228': 'something', '53251': 'somewhere', '53401': 'soul', '53848': 'spill', '53917': 'spit', '66549': 'spread', '54138': 'sprint', '54188': 'squeeze', '54248': 'stadium', '54661': 'stepfather', '54804': 'sting', '54829': 'stir', '54838': 'stitch', '55322': 'stuck', '55626': 'sue', '55865': 'sunshine', '55910': 'superman', '56113': 'surrender', '56168': 'suspend', '56354': 'swimming', '56546': 't', '56788': 'talent', '57251': 'telescope', '57344': 'tempt', '57391': 'ten', '57361': 'tend', '57542': 'testify', '57566': 'texas', '57584': 'text', '57604': 'than', '57818': 'therefore', '58236': 'thrill', '58663': 'tobacco', '58743': 'toilet paper', '58768': 'tolerate', '59000': 'torture', '59120': 'towel', '59672': 'trip', '59839': 'truth', '59969': 'turn', '69520': 'tv', '60338': 'u', '60701': 'unique', '60966': 'upstairs', '61130': 'v', '61134': 'vacant', '61187': 'vague', '61219': 'valley', '66718': 'vampire', '69523': 'very', '61587': 'vice president', '61696': 'viewpoint', '61845': 'visualize', '66734': 'vlog', '61946': 'volleyball', '62032': 'w', '62384': 'washington', '62487': 'waterfall', '62781': 'weigh', '63044': 'wheelchair', '63185': 'whistle'}\n"
     ]
    }
   ],
   "source": [
    "import pandas as pd\n",
    "\n",
    "# Read JSON data from file into a Pandas DataFrame\n",
    "df = pd.read_json('WLASL_v0.3.json')\n",
    "\n",
    "video_words = {}\n",
    "for i in range(len(df)):\n",
    "    video_words[df['instances'].iloc[i][0]['video_id']] = df['gloss'][i]\n",
    "    \n",
    "# Display the DataFrame\n",
    "print(video_words)\n",
    "# for key in video_words.keys():\n",
    "#     print(key + \", \" + video_words[key])"
   ]
  },
  {
   "cell_type": "code",
   "execution_count": 35,
   "metadata": {},
   "outputs": [],
   "source": [
    "import cv2\n",
    "import mediapipe as mp\n",
    "\n",
    "def generate_keypoints(org_video_id):\n",
    "    # Load mediapipe solutions\n",
    "    mp_face_mesh = mp.solutions.face_mesh\n",
    "    mp_hands = mp.solutions.hands\n",
    "\n",
    "    # Initialize face mesh and hands models\n",
    "    face_mesh = mp_face_mesh.FaceMesh()\n",
    "    hands = mp_hands.Hands()\n",
    "\n",
    "    # Open video file\n",
    "    cap = cv2.VideoCapture(f'videos/{org_video_id}.mp4')\n",
    "\n",
    "    # Get video frame properties\n",
    "    frame_width = int(cap.get(cv2.CAP_PROP_FRAME_WIDTH))\n",
    "    frame_height = int(cap.get(cv2.CAP_PROP_FRAME_HEIGHT))\n",
    "    fps = int(cap.get(cv2.CAP_PROP_FPS))\n",
    "\n",
    "    # Define the codec and create VideoWriter object for MP4\n",
    "    fourcc = cv2.VideoWriter_fourcc(*'mp4v')  # Use 'mp4v' codec for MP4 format\n",
    "    out = cv2.VideoWriter(f'./videos-keypoints/{str(org_video_id)} - keypoints.mp4', fourcc, fps, (frame_width, frame_height))\n",
    "\n",
    "    phrase = video_words[org_video_id]\n",
    "    print(phrase)\n",
    "    text_position = (50, 50)  # Adjust position as needed\n",
    "    text_color = (255, 255, 255)  # White color\n",
    "    font_scale = 1\n",
    "    font_thickness = 2\n",
    "\n",
    "    while cap.isOpened():\n",
    "        ret, frame = cap.read()\n",
    "        if not ret:\n",
    "            break\n",
    "        \n",
    "        cv2.putText(frame, phrase, text_position, cv2.FONT_HERSHEY_SIMPLEX, font_scale, text_color, font_thickness)\n",
    "\n",
    "        # Convert the image to RGB\n",
    "        frame_rgb = cv2.cvtColor(frame, cv2.COLOR_BGR2RGB)\n",
    "        \n",
    "        # Detect facial landmarks\n",
    "        faces = face_mesh.process(frame_rgb)\n",
    "        if faces.multi_face_landmarks:\n",
    "            for face_landmarks in faces.multi_face_landmarks:\n",
    "                for landmark in face_landmarks.landmark:\n",
    "                    # Extract landmark coordinates and draw\n",
    "                    landmark_x = int(landmark.x * frame.shape[1])\n",
    "                    landmark_y = int(landmark.y * frame.shape[0])\n",
    "                    cv2.circle(frame, (landmark_x, landmark_y), 2, (0, 255, 0), -1)\n",
    "                    \n",
    "                    \n",
    "        # Detect hand keypoints\n",
    "        hand_results = hands.process(frame_rgb)\n",
    "        if hand_results.multi_hand_landmarks:\n",
    "            for hand_landmarks in hand_results.multi_hand_landmarks:\n",
    "                for landmark in hand_landmarks.landmark:\n",
    "                    # Extract landmark coordinates and draw\n",
    "                    landmark_x = int(landmark.x * frame.shape[1])\n",
    "                    landmark_y = int(landmark.y * frame.shape[0])\n",
    "                    cv2.circle(frame, (landmark_x, landmark_y), 2, (255, 0, 0), -1)\n",
    "        \n",
    "        # Write the frame with keypoints to the output video\n",
    "        out.write(frame)\n",
    "        \n",
    "        # Display the resulting frame\n",
    "        cv2.imshow('Frame', frame)\n",
    "        \n",
    "        if cv2.waitKey(25) & 0xFF == ord('q'):\n",
    "            break\n",
    "\n",
    "    # Release video capture and writer, and close all OpenCV windows\n",
    "    cap.release()\n",
    "    out.release()\n",
    "    cv2.destroyAllWindows()"
   ]
  },
  {
   "cell_type": "code",
   "execution_count": 36,
   "metadata": {},
   "outputs": [
    {
     "name": "stderr",
     "output_type": "stream",
     "text": [
      "I0000 00:00:1708239751.142481       1 gl_context.cc:344] GL version: 2.1 (2.1 Metal - 83.1), renderer: Apple M1\n",
      "I0000 00:00:1708239751.150556       1 gl_context.cc:344] GL version: 2.1 (2.1 Metal - 83.1), renderer: Apple M1\n"
     ]
    },
    {
     "name": "stdout",
     "output_type": "stream",
     "text": [
      "toast\n"
     ]
    },
    {
     "name": "stderr",
     "output_type": "stream",
     "text": [
      "Context leak detected, msgtracer returned -1\n",
      "I0000 00:00:1708239755.626896       1 gl_context.cc:344] GL version: 2.1 (2.1 Metal - 83.1), renderer: Apple M1\n",
      "I0000 00:00:1708239755.635003       1 gl_context.cc:344] GL version: 2.1 (2.1 Metal - 83.1), renderer: Apple M1\n"
     ]
    },
    {
     "name": "stdout",
     "output_type": "stream",
     "text": [
      "measure\n"
     ]
    },
    {
     "name": "stderr",
     "output_type": "stream",
     "text": [
      "I0000 00:00:1708239760.178010       1 gl_context.cc:344] GL version: 2.1 (2.1 Metal - 83.1), renderer: Apple M1\n",
      "I0000 00:00:1708239760.185350       1 gl_context.cc:344] GL version: 2.1 (2.1 Metal - 83.1), renderer: Apple M1\n"
     ]
    },
    {
     "name": "stdout",
     "output_type": "stream",
     "text": [
      "cousin\n"
     ]
    },
    {
     "name": "stderr",
     "output_type": "stream",
     "text": [
      "I0000 00:00:1708239764.849654       1 gl_context.cc:344] GL version: 2.1 (2.1 Metal - 83.1), renderer: Apple M1\n",
      "I0000 00:00:1708239764.856769       1 gl_context.cc:344] GL version: 2.1 (2.1 Metal - 83.1), renderer: Apple M1\n"
     ]
    },
    {
     "name": "stdout",
     "output_type": "stream",
     "text": [
      "consume\n"
     ]
    },
    {
     "name": "stderr",
     "output_type": "stream",
     "text": [
      "I0000 00:00:1708239768.771436       1 gl_context.cc:344] GL version: 2.1 (2.1 Metal - 83.1), renderer: Apple M1\n",
      "I0000 00:00:1708239768.777977       1 gl_context.cc:344] GL version: 2.1 (2.1 Metal - 83.1), renderer: Apple M1\n"
     ]
    },
    {
     "name": "stdout",
     "output_type": "stream",
     "text": [
      "debt\n"
     ]
    },
    {
     "name": "stderr",
     "output_type": "stream",
     "text": [
      "I0000 00:00:1708239775.375015       1 gl_context.cc:344] GL version: 2.1 (2.1 Metal - 83.1), renderer: Apple M1\n",
      "I0000 00:00:1708239775.382057       1 gl_context.cc:344] GL version: 2.1 (2.1 Metal - 83.1), renderer: Apple M1\n"
     ]
    },
    {
     "name": "stdout",
     "output_type": "stream",
     "text": [
      "sign\n"
     ]
    },
    {
     "name": "stderr",
     "output_type": "stream",
     "text": [
      "I0000 00:00:1708239779.138530       1 gl_context.cc:344] GL version: 2.1 (2.1 Metal - 83.1), renderer: Apple M1\n",
      "I0000 00:00:1708239779.145997       1 gl_context.cc:344] GL version: 2.1 (2.1 Metal - 83.1), renderer: Apple M1\n"
     ]
    },
    {
     "name": "stdout",
     "output_type": "stream",
     "text": [
      "siren\n"
     ]
    },
    {
     "name": "stderr",
     "output_type": "stream",
     "text": [
      "I0000 00:00:1708239783.517398       1 gl_context.cc:344] GL version: 2.1 (2.1 Metal - 83.1), renderer: Apple M1\n",
      "I0000 00:00:1708239783.524086       1 gl_context.cc:344] GL version: 2.1 (2.1 Metal - 83.1), renderer: Apple M1\n"
     ]
    },
    {
     "name": "stdout",
     "output_type": "stream",
     "text": [
      "accountant\n"
     ]
    },
    {
     "name": "stderr",
     "output_type": "stream",
     "text": [
      "I0000 00:00:1708239788.420245       1 gl_context.cc:344] GL version: 2.1 (2.1 Metal - 83.1), renderer: Apple M1\n",
      "I0000 00:00:1708239788.427408       1 gl_context.cc:344] GL version: 2.1 (2.1 Metal - 83.1), renderer: Apple M1\n"
     ]
    },
    {
     "name": "stdout",
     "output_type": "stream",
     "text": [
      "interest\n"
     ]
    },
    {
     "name": "stderr",
     "output_type": "stream",
     "text": [
      "I0000 00:00:1708239791.694306       1 gl_context.cc:344] GL version: 2.1 (2.1 Metal - 83.1), renderer: Apple M1\n",
      "Context leak detected, msgtracer returned -1\n",
      "I0000 00:00:1708239791.701234       1 gl_context.cc:344] GL version: 2.1 (2.1 Metal - 83.1), renderer: Apple M1\n"
     ]
    },
    {
     "name": "stdout",
     "output_type": "stream",
     "text": [
      "b\n"
     ]
    },
    {
     "name": "stderr",
     "output_type": "stream",
     "text": [
      "I0000 00:00:1708239794.932095       1 gl_context.cc:344] GL version: 2.1 (2.1 Metal - 83.1), renderer: Apple M1\n",
      "I0000 00:00:1708239794.939215       1 gl_context.cc:344] GL version: 2.1 (2.1 Metal - 83.1), renderer: Apple M1\n"
     ]
    },
    {
     "name": "stdout",
     "output_type": "stream",
     "text": [
      "mine\n"
     ]
    },
    {
     "name": "stderr",
     "output_type": "stream",
     "text": [
      "I0000 00:00:1708239799.598722       1 gl_context.cc:344] GL version: 2.1 (2.1 Metal - 83.1), renderer: Apple M1\n",
      "I0000 00:00:1708239799.605371       1 gl_context.cc:344] GL version: 2.1 (2.1 Metal - 83.1), renderer: Apple M1\n"
     ]
    },
    {
     "name": "stdout",
     "output_type": "stream",
     "text": [
      "camel\n"
     ]
    },
    {
     "name": "stderr",
     "output_type": "stream",
     "text": [
      "I0000 00:00:1708239805.077603       1 gl_context.cc:344] GL version: 2.1 (2.1 Metal - 83.1), renderer: Apple M1\n",
      "I0000 00:00:1708239805.084829       1 gl_context.cc:344] GL version: 2.1 (2.1 Metal - 83.1), renderer: Apple M1\n"
     ]
    },
    {
     "name": "stdout",
     "output_type": "stream",
     "text": [
      "shoot\n"
     ]
    },
    {
     "name": "stderr",
     "output_type": "stream",
     "text": [
      "I0000 00:00:1708239807.755700       1 gl_context.cc:344] GL version: 2.1 (2.1 Metal - 83.1), renderer: Apple M1\n",
      "I0000 00:00:1708239807.762540       1 gl_context.cc:344] GL version: 2.1 (2.1 Metal - 83.1), renderer: Apple M1\n"
     ]
    },
    {
     "name": "stdout",
     "output_type": "stream",
     "text": [
      "mom\n"
     ]
    },
    {
     "name": "stderr",
     "output_type": "stream",
     "text": [
      "I0000 00:00:1708239813.183190       1 gl_context.cc:344] GL version: 2.1 (2.1 Metal - 83.1), renderer: Apple M1\n",
      "I0000 00:00:1708239813.189674       1 gl_context.cc:344] GL version: 2.1 (2.1 Metal - 83.1), renderer: Apple M1\n"
     ]
    },
    {
     "name": "stdout",
     "output_type": "stream",
     "text": [
      "boyfriend\n"
     ]
    },
    {
     "name": "stderr",
     "output_type": "stream",
     "text": [
      "I0000 00:00:1708239818.181339       1 gl_context.cc:344] GL version: 2.1 (2.1 Metal - 83.1), renderer: Apple M1\n",
      "I0000 00:00:1708239818.188754       1 gl_context.cc:344] GL version: 2.1 (2.1 Metal - 83.1), renderer: Apple M1\n"
     ]
    },
    {
     "name": "stdout",
     "output_type": "stream",
     "text": [
      "light\n"
     ]
    },
    {
     "name": "stderr",
     "output_type": "stream",
     "text": [
      "I0000 00:00:1708239822.285882       1 gl_context.cc:344] GL version: 2.1 (2.1 Metal - 83.1), renderer: Apple M1\n",
      "I0000 00:00:1708239822.293666       1 gl_context.cc:344] GL version: 2.1 (2.1 Metal - 83.1), renderer: Apple M1\n"
     ]
    },
    {
     "name": "stdout",
     "output_type": "stream",
     "text": [
      "soul\n"
     ]
    },
    {
     "name": "stderr",
     "output_type": "stream",
     "text": [
      "I0000 00:00:1708239828.542915       1 gl_context.cc:344] GL version: 2.1 (2.1 Metal - 83.1), renderer: Apple M1\n",
      "Context leak detected, msgtracer returned -1\n",
      "I0000 00:00:1708239828.549880       1 gl_context.cc:344] GL version: 2.1 (2.1 Metal - 83.1), renderer: Apple M1\n"
     ]
    },
    {
     "name": "stdout",
     "output_type": "stream",
     "text": [
      "clumsy\n"
     ]
    },
    {
     "name": "stderr",
     "output_type": "stream",
     "text": [
      "I0000 00:00:1708239836.368714       1 gl_context.cc:344] GL version: 2.1 (2.1 Metal - 83.1), renderer: Apple M1\n",
      "I0000 00:00:1708239836.375770       1 gl_context.cc:344] GL version: 2.1 (2.1 Metal - 83.1), renderer: Apple M1\n"
     ]
    },
    {
     "name": "stdout",
     "output_type": "stream",
     "text": [
      "festival\n"
     ]
    },
    {
     "name": "stderr",
     "output_type": "stream",
     "text": [
      "I0000 00:00:1708239843.951152       1 gl_context.cc:344] GL version: 2.1 (2.1 Metal - 83.1), renderer: Apple M1\n",
      "I0000 00:00:1708239843.957811       1 gl_context.cc:344] GL version: 2.1 (2.1 Metal - 83.1), renderer: Apple M1\n"
     ]
    },
    {
     "name": "stdout",
     "output_type": "stream",
     "text": [
      "mind\n"
     ]
    },
    {
     "name": "stderr",
     "output_type": "stream",
     "text": [
      "I0000 00:00:1708239848.043664       1 gl_context.cc:344] GL version: 2.1 (2.1 Metal - 83.1), renderer: Apple M1\n",
      "I0000 00:00:1708239848.050953       1 gl_context.cc:344] GL version: 2.1 (2.1 Metal - 83.1), renderer: Apple M1\n"
     ]
    },
    {
     "name": "stdout",
     "output_type": "stream",
     "text": [
      "aid\n"
     ]
    },
    {
     "name": "stderr",
     "output_type": "stream",
     "text": [
      "I0000 00:00:1708239852.998509       1 gl_context.cc:344] GL version: 2.1 (2.1 Metal - 83.1), renderer: Apple M1\n",
      "I0000 00:00:1708239853.005179       1 gl_context.cc:344] GL version: 2.1 (2.1 Metal - 83.1), renderer: Apple M1\n"
     ]
    },
    {
     "name": "stdout",
     "output_type": "stream",
     "text": [
      "tale\n"
     ]
    },
    {
     "name": "stderr",
     "output_type": "stream",
     "text": [
      "I0000 00:00:1708239860.037915       1 gl_context.cc:344] GL version: 2.1 (2.1 Metal - 83.1), renderer: Apple M1\n",
      "I0000 00:00:1708239860.044988       1 gl_context.cc:344] GL version: 2.1 (2.1 Metal - 83.1), renderer: Apple M1\n"
     ]
    },
    {
     "name": "stdout",
     "output_type": "stream",
     "text": [
      "economy\n"
     ]
    },
    {
     "name": "stderr",
     "output_type": "stream",
     "text": [
      "I0000 00:00:1708239871.277597       1 gl_context.cc:344] GL version: 2.1 (2.1 Metal - 83.1), renderer: Apple M1\n",
      "I0000 00:00:1708239871.284454       1 gl_context.cc:344] GL version: 2.1 (2.1 Metal - 83.1), renderer: Apple M1\n"
     ]
    },
    {
     "name": "stdout",
     "output_type": "stream",
     "text": [
      "eighteen\n"
     ]
    },
    {
     "name": "stderr",
     "output_type": "stream",
     "text": [
      "I0000 00:00:1708239875.264373       1 gl_context.cc:344] GL version: 2.1 (2.1 Metal - 83.1), renderer: Apple M1\n",
      "I0000 00:00:1708239875.271051       1 gl_context.cc:344] GL version: 2.1 (2.1 Metal - 83.1), renderer: Apple M1\n"
     ]
    },
    {
     "name": "stdout",
     "output_type": "stream",
     "text": [
      "fly\n"
     ]
    },
    {
     "name": "stderr",
     "output_type": "stream",
     "text": [
      "I0000 00:00:1708239880.370196       1 gl_context.cc:344] GL version: 2.1 (2.1 Metal - 83.1), renderer: Apple M1\n",
      "I0000 00:00:1708239880.377157       1 gl_context.cc:344] GL version: 2.1 (2.1 Metal - 83.1), renderer: Apple M1\n"
     ]
    },
    {
     "name": "stdout",
     "output_type": "stream",
     "text": [
      "socks\n"
     ]
    },
    {
     "name": "stderr",
     "output_type": "stream",
     "text": [
      "Context leak detected, msgtracer returned -1\n",
      "I0000 00:00:1708239884.783769       1 gl_context.cc:344] GL version: 2.1 (2.1 Metal - 83.1), renderer: Apple M1\n",
      "I0000 00:00:1708239884.790517       1 gl_context.cc:344] GL version: 2.1 (2.1 Metal - 83.1), renderer: Apple M1\n"
     ]
    },
    {
     "name": "stdout",
     "output_type": "stream",
     "text": [
      "forever\n"
     ]
    },
    {
     "name": "stderr",
     "output_type": "stream",
     "text": [
      "I0000 00:00:1708239890.565352       1 gl_context.cc:344] GL version: 2.1 (2.1 Metal - 83.1), renderer: Apple M1\n",
      "I0000 00:00:1708239890.572230       1 gl_context.cc:344] GL version: 2.1 (2.1 Metal - 83.1), renderer: Apple M1\n"
     ]
    },
    {
     "name": "stdout",
     "output_type": "stream",
     "text": [
      "graduation\n"
     ]
    },
    {
     "name": "stderr",
     "output_type": "stream",
     "text": [
      "I0000 00:00:1708239895.929658       1 gl_context.cc:344] GL version: 2.1 (2.1 Metal - 83.1), renderer: Apple M1\n",
      "I0000 00:00:1708239895.937196       1 gl_context.cc:344] GL version: 2.1 (2.1 Metal - 83.1), renderer: Apple M1\n"
     ]
    },
    {
     "name": "stdout",
     "output_type": "stream",
     "text": [
      "vampire\n"
     ]
    },
    {
     "name": "stderr",
     "output_type": "stream",
     "text": [
      "I0000 00:00:1708239898.872573       1 gl_context.cc:344] GL version: 2.1 (2.1 Metal - 83.1), renderer: Apple M1\n",
      "I0000 00:00:1708239898.879193       1 gl_context.cc:344] GL version: 2.1 (2.1 Metal - 83.1), renderer: Apple M1\n"
     ]
    },
    {
     "name": "stdout",
     "output_type": "stream",
     "text": [
      "octopus\n"
     ]
    },
    {
     "name": "stderr",
     "output_type": "stream",
     "text": [
      "I0000 00:00:1708239906.063512       1 gl_context.cc:344] GL version: 2.1 (2.1 Metal - 83.1), renderer: Apple M1\n",
      "I0000 00:00:1708239906.069884       1 gl_context.cc:344] GL version: 2.1 (2.1 Metal - 83.1), renderer: Apple M1\n"
     ]
    },
    {
     "name": "stdout",
     "output_type": "stream",
     "text": [
      "d\n"
     ]
    },
    {
     "name": "stderr",
     "output_type": "stream",
     "text": [
      "I0000 00:00:1708239910.110133       1 gl_context.cc:344] GL version: 2.1 (2.1 Metal - 83.1), renderer: Apple M1\n",
      "I0000 00:00:1708239910.117023       1 gl_context.cc:344] GL version: 2.1 (2.1 Metal - 83.1), renderer: Apple M1\n"
     ]
    },
    {
     "name": "stdout",
     "output_type": "stream",
     "text": [
      "motor\n"
     ]
    },
    {
     "name": "stderr",
     "output_type": "stream",
     "text": [
      "I0000 00:00:1708239917.082843       1 gl_context.cc:344] GL version: 2.1 (2.1 Metal - 83.1), renderer: Apple M1\n",
      "I0000 00:00:1708239917.089292       1 gl_context.cc:344] GL version: 2.1 (2.1 Metal - 83.1), renderer: Apple M1\n"
     ]
    },
    {
     "name": "stdout",
     "output_type": "stream",
     "text": [
      "pet\n"
     ]
    },
    {
     "name": "stderr",
     "output_type": "stream",
     "text": [
      "I0000 00:00:1708239921.424823       1 gl_context.cc:344] GL version: 2.1 (2.1 Metal - 83.1), renderer: Apple M1\n",
      "I0000 00:00:1708239921.431395       1 gl_context.cc:344] GL version: 2.1 (2.1 Metal - 83.1), renderer: Apple M1\n"
     ]
    },
    {
     "name": "stdout",
     "output_type": "stream",
     "text": [
      "swimming\n"
     ]
    },
    {
     "name": "stderr",
     "output_type": "stream",
     "text": [
      "I0000 00:00:1708239927.647493       1 gl_context.cc:344] GL version: 2.1 (2.1 Metal - 83.1), renderer: Apple M1\n",
      "Context leak detected, msgtracer returned -1\n",
      "I0000 00:00:1708239927.654218       1 gl_context.cc:344] GL version: 2.1 (2.1 Metal - 83.1), renderer: Apple M1\n"
     ]
    },
    {
     "name": "stdout",
     "output_type": "stream",
     "text": [
      "italy\n"
     ]
    },
    {
     "name": "stderr",
     "output_type": "stream",
     "text": [
      "I0000 00:00:1708239932.341811       1 gl_context.cc:344] GL version: 2.1 (2.1 Metal - 83.1), renderer: Apple M1\n",
      "I0000 00:00:1708239932.348572       1 gl_context.cc:344] GL version: 2.1 (2.1 Metal - 83.1), renderer: Apple M1\n"
     ]
    },
    {
     "name": "stdout",
     "output_type": "stream",
     "text": [
      "forget\n"
     ]
    },
    {
     "name": "stderr",
     "output_type": "stream",
     "text": [
      "I0000 00:00:1708239935.253497       1 gl_context.cc:344] GL version: 2.1 (2.1 Metal - 83.1), renderer: Apple M1\n",
      "I0000 00:00:1708239935.260474       1 gl_context.cc:344] GL version: 2.1 (2.1 Metal - 83.1), renderer: Apple M1\n"
     ]
    },
    {
     "name": "stdout",
     "output_type": "stream",
     "text": [
      "kid\n"
     ]
    },
    {
     "name": "stderr",
     "output_type": "stream",
     "text": [
      "I0000 00:00:1708239940.246287       1 gl_context.cc:344] GL version: 2.1 (2.1 Metal - 83.1), renderer: Apple M1\n",
      "I0000 00:00:1708239940.253003       1 gl_context.cc:344] GL version: 2.1 (2.1 Metal - 83.1), renderer: Apple M1\n"
     ]
    },
    {
     "name": "stdout",
     "output_type": "stream",
     "text": [
      "broke\n"
     ]
    },
    {
     "name": "stderr",
     "output_type": "stream",
     "text": [
      "I0000 00:00:1708239944.716977       1 gl_context.cc:344] GL version: 2.1 (2.1 Metal - 83.1), renderer: Apple M1\n",
      "I0000 00:00:1708239944.723481       1 gl_context.cc:344] GL version: 2.1 (2.1 Metal - 83.1), renderer: Apple M1\n"
     ]
    },
    {
     "name": "stdout",
     "output_type": "stream",
     "text": [
      "austria\n"
     ]
    },
    {
     "name": "stderr",
     "output_type": "stream",
     "text": [
      "I0000 00:00:1708239952.066347       1 gl_context.cc:344] GL version: 2.1 (2.1 Metal - 83.1), renderer: Apple M1\n",
      "I0000 00:00:1708239952.073057       1 gl_context.cc:344] GL version: 2.1 (2.1 Metal - 83.1), renderer: Apple M1\n"
     ]
    },
    {
     "name": "stdout",
     "output_type": "stream",
     "text": [
      "death\n"
     ]
    },
    {
     "name": "stderr",
     "output_type": "stream",
     "text": [
      "I0000 00:00:1708239964.826720       1 gl_context.cc:344] GL version: 2.1 (2.1 Metal - 83.1), renderer: Apple M1\n",
      "I0000 00:00:1708239964.833807       1 gl_context.cc:344] GL version: 2.1 (2.1 Metal - 83.1), renderer: Apple M1\n"
     ]
    },
    {
     "name": "stdout",
     "output_type": "stream",
     "text": [
      "gymnastics\n"
     ]
    },
    {
     "name": "stderr",
     "output_type": "stream",
     "text": [
      "I0000 00:00:1708239972.889325       1 gl_context.cc:344] GL version: 2.1 (2.1 Metal - 83.1), renderer: Apple M1\n",
      "I0000 00:00:1708239972.897002       1 gl_context.cc:344] GL version: 2.1 (2.1 Metal - 83.1), renderer: Apple M1\n"
     ]
    },
    {
     "name": "stdout",
     "output_type": "stream",
     "text": [
      "determine\n"
     ]
    },
    {
     "name": "stderr",
     "output_type": "stream",
     "text": [
      "I0000 00:00:1708239979.216256       1 gl_context.cc:344] GL version: 2.1 (2.1 Metal - 83.1), renderer: Apple M1\n",
      "Context leak detected, msgtracer returned -1\n",
      "I0000 00:00:1708239979.223261       1 gl_context.cc:344] GL version: 2.1 (2.1 Metal - 83.1), renderer: Apple M1\n"
     ]
    },
    {
     "name": "stdout",
     "output_type": "stream",
     "text": [
      "fairy\n"
     ]
    },
    {
     "name": "stderr",
     "output_type": "stream",
     "text": [
      "I0000 00:00:1708239986.026163       1 gl_context.cc:344] GL version: 2.1 (2.1 Metal - 83.1), renderer: Apple M1\n",
      "I0000 00:00:1708239986.033374       1 gl_context.cc:344] GL version: 2.1 (2.1 Metal - 83.1), renderer: Apple M1\n"
     ]
    },
    {
     "name": "stdout",
     "output_type": "stream",
     "text": [
      "cigarette\n"
     ]
    },
    {
     "name": "stderr",
     "output_type": "stream",
     "text": [
      "I0000 00:00:1708239989.891753       1 gl_context.cc:344] GL version: 2.1 (2.1 Metal - 83.1), renderer: Apple M1\n",
      "I0000 00:00:1708239989.898750       1 gl_context.cc:344] GL version: 2.1 (2.1 Metal - 83.1), renderer: Apple M1\n"
     ]
    },
    {
     "name": "stdout",
     "output_type": "stream",
     "text": [
      "add\n"
     ]
    },
    {
     "name": "stderr",
     "output_type": "stream",
     "text": [
      "I0000 00:00:1708239995.976414       1 gl_context.cc:344] GL version: 2.1 (2.1 Metal - 83.1), renderer: Apple M1\n",
      "I0000 00:00:1708239995.985234       1 gl_context.cc:344] GL version: 2.1 (2.1 Metal - 83.1), renderer: Apple M1\n"
     ]
    },
    {
     "name": "stdout",
     "output_type": "stream",
     "text": [
      "bull\n"
     ]
    },
    {
     "name": "stderr",
     "output_type": "stream",
     "text": [
      "I0000 00:00:1708239999.785098       1 gl_context.cc:344] GL version: 2.1 (2.1 Metal - 83.1), renderer: Apple M1\n",
      "I0000 00:00:1708239999.791602       1 gl_context.cc:344] GL version: 2.1 (2.1 Metal - 83.1), renderer: Apple M1\n"
     ]
    },
    {
     "name": "stdout",
     "output_type": "stream",
     "text": [
      "educate\n"
     ]
    },
    {
     "name": "stderr",
     "output_type": "stream",
     "text": [
      "I0000 00:00:1708240005.187526       1 gl_context.cc:344] GL version: 2.1 (2.1 Metal - 83.1), renderer: Apple M1\n",
      "I0000 00:00:1708240005.194254       1 gl_context.cc:344] GL version: 2.1 (2.1 Metal - 83.1), renderer: Apple M1\n"
     ]
    },
    {
     "name": "stdout",
     "output_type": "stream",
     "text": [
      "run\n"
     ]
    },
    {
     "name": "stderr",
     "output_type": "stream",
     "text": [
      "I0000 00:00:1708240011.418290       1 gl_context.cc:344] GL version: 2.1 (2.1 Metal - 83.1), renderer: Apple M1\n",
      "I0000 00:00:1708240011.425280       1 gl_context.cc:344] GL version: 2.1 (2.1 Metal - 83.1), renderer: Apple M1\n"
     ]
    },
    {
     "name": "stdout",
     "output_type": "stream",
     "text": [
      "stamp\n"
     ]
    },
    {
     "name": "stderr",
     "output_type": "stream",
     "text": [
      "I0000 00:00:1708240018.293096       1 gl_context.cc:344] GL version: 2.1 (2.1 Metal - 83.1), renderer: Apple M1\n",
      "I0000 00:00:1708240018.299847       1 gl_context.cc:344] GL version: 2.1 (2.1 Metal - 83.1), renderer: Apple M1\n"
     ]
    },
    {
     "name": "stdout",
     "output_type": "stream",
     "text": [
      "form\n"
     ]
    },
    {
     "name": "stderr",
     "output_type": "stream",
     "text": [
      "I0000 00:00:1708240023.254596       1 gl_context.cc:344] GL version: 2.1 (2.1 Metal - 83.1), renderer: Apple M1\n",
      "I0000 00:00:1708240023.261255       1 gl_context.cc:344] GL version: 2.1 (2.1 Metal - 83.1), renderer: Apple M1\n"
     ]
    },
    {
     "name": "stdout",
     "output_type": "stream",
     "text": [
      "swing\n"
     ]
    },
    {
     "name": "stderr",
     "output_type": "stream",
     "text": [
      "Context leak detected, msgtracer returned -1\n",
      "I0000 00:00:1708240031.376079       1 gl_context.cc:344] GL version: 2.1 (2.1 Metal - 83.1), renderer: Apple M1\n",
      "I0000 00:00:1708240031.382878       1 gl_context.cc:344] GL version: 2.1 (2.1 Metal - 83.1), renderer: Apple M1\n"
     ]
    },
    {
     "name": "stdout",
     "output_type": "stream",
     "text": [
      "grandma\n"
     ]
    },
    {
     "name": "stderr",
     "output_type": "stream",
     "text": [
      "I0000 00:00:1708240037.553534       1 gl_context.cc:344] GL version: 2.1 (2.1 Metal - 83.1), renderer: Apple M1\n",
      "I0000 00:00:1708240037.560162       1 gl_context.cc:344] GL version: 2.1 (2.1 Metal - 83.1), renderer: Apple M1\n"
     ]
    },
    {
     "name": "stdout",
     "output_type": "stream",
     "text": [
      "general\n"
     ]
    },
    {
     "name": "stderr",
     "output_type": "stream",
     "text": [
      "I0000 00:00:1708240040.935984       1 gl_context.cc:344] GL version: 2.1 (2.1 Metal - 83.1), renderer: Apple M1\n",
      "I0000 00:00:1708240040.942995       1 gl_context.cc:344] GL version: 2.1 (2.1 Metal - 83.1), renderer: Apple M1\n"
     ]
    },
    {
     "name": "stdout",
     "output_type": "stream",
     "text": [
      "vlog\n"
     ]
    },
    {
     "name": "stderr",
     "output_type": "stream",
     "text": [
      "I0000 00:00:1708240044.041754       1 gl_context.cc:344] GL version: 2.1 (2.1 Metal - 83.1), renderer: Apple M1\n",
      "I0000 00:00:1708240044.048565       1 gl_context.cc:344] GL version: 2.1 (2.1 Metal - 83.1), renderer: Apple M1\n"
     ]
    },
    {
     "name": "stdout",
     "output_type": "stream",
     "text": [
      "bored\n"
     ]
    },
    {
     "name": "stderr",
     "output_type": "stream",
     "text": [
      "I0000 00:00:1708240047.929697       1 gl_context.cc:344] GL version: 2.1 (2.1 Metal - 83.1), renderer: Apple M1\n",
      "I0000 00:00:1708240047.936525       1 gl_context.cc:344] GL version: 2.1 (2.1 Metal - 83.1), renderer: Apple M1\n"
     ]
    },
    {
     "name": "stdout",
     "output_type": "stream",
     "text": [
      "kindergarten\n"
     ]
    },
    {
     "name": "stderr",
     "output_type": "stream",
     "text": [
      "I0000 00:00:1708240053.561376       1 gl_context.cc:344] GL version: 2.1 (2.1 Metal - 83.1), renderer: Apple M1\n",
      "I0000 00:00:1708240053.568056       1 gl_context.cc:344] GL version: 2.1 (2.1 Metal - 83.1), renderer: Apple M1\n"
     ]
    },
    {
     "name": "stdout",
     "output_type": "stream",
     "text": [
      "rock\n"
     ]
    },
    {
     "name": "stderr",
     "output_type": "stream",
     "text": [
      "I0000 00:00:1708240059.313463       1 gl_context.cc:344] GL version: 2.1 (2.1 Metal - 83.1), renderer: Apple M1\n",
      "I0000 00:00:1708240059.320376       1 gl_context.cc:344] GL version: 2.1 (2.1 Metal - 83.1), renderer: Apple M1\n"
     ]
    },
    {
     "name": "stdout",
     "output_type": "stream",
     "text": [
      "lucky\n"
     ]
    },
    {
     "name": "stderr",
     "output_type": "stream",
     "text": [
      "I0000 00:00:1708240061.799494       1 gl_context.cc:344] GL version: 2.1 (2.1 Metal - 83.1), renderer: Apple M1\n",
      "I0000 00:00:1708240061.806606       1 gl_context.cc:344] GL version: 2.1 (2.1 Metal - 83.1), renderer: Apple M1\n"
     ]
    },
    {
     "name": "stdout",
     "output_type": "stream",
     "text": [
      "still\n"
     ]
    },
    {
     "name": "stderr",
     "output_type": "stream",
     "text": [
      "I0000 00:00:1708240064.308171       1 gl_context.cc:344] GL version: 2.1 (2.1 Metal - 83.1), renderer: Apple M1\n",
      "Context leak detected, msgtracer returned -1\n",
      "I0000 00:00:1708240064.315508       1 gl_context.cc:344] GL version: 2.1 (2.1 Metal - 83.1), renderer: Apple M1\n"
     ]
    },
    {
     "name": "stdout",
     "output_type": "stream",
     "text": [
      "bike\n"
     ]
    },
    {
     "name": "stderr",
     "output_type": "stream",
     "text": [
      "I0000 00:00:1708240068.440882       1 gl_context.cc:344] GL version: 2.1 (2.1 Metal - 83.1), renderer: Apple M1\n",
      "I0000 00:00:1708240068.447891       1 gl_context.cc:344] GL version: 2.1 (2.1 Metal - 83.1), renderer: Apple M1\n"
     ]
    },
    {
     "name": "stdout",
     "output_type": "stream",
     "text": [
      "inspire\n"
     ]
    },
    {
     "name": "stderr",
     "output_type": "stream",
     "text": [
      "I0000 00:00:1708240071.418119       1 gl_context.cc:344] GL version: 2.1 (2.1 Metal - 83.1), renderer: Apple M1\n",
      "I0000 00:00:1708240071.424770       1 gl_context.cc:344] GL version: 2.1 (2.1 Metal - 83.1), renderer: Apple M1\n"
     ]
    },
    {
     "name": "stdout",
     "output_type": "stream",
     "text": [
      "smoking\n"
     ]
    },
    {
     "name": "stderr",
     "output_type": "stream",
     "text": [
      "I0000 00:00:1708240076.270476       1 gl_context.cc:344] GL version: 2.1 (2.1 Metal - 83.1), renderer: Apple M1\n",
      "I0000 00:00:1708240076.279924       1 gl_context.cc:344] GL version: 2.1 (2.1 Metal - 83.1), renderer: Apple M1\n"
     ]
    },
    {
     "name": "stdout",
     "output_type": "stream",
     "text": [
      "period\n"
     ]
    },
    {
     "name": "stderr",
     "output_type": "stream",
     "text": [
      "I0000 00:00:1708240080.588318       1 gl_context.cc:344] GL version: 2.1 (2.1 Metal - 83.1), renderer: Apple M1\n",
      "I0000 00:00:1708240080.596475       1 gl_context.cc:344] GL version: 2.1 (2.1 Metal - 83.1), renderer: Apple M1\n"
     ]
    },
    {
     "name": "stdout",
     "output_type": "stream",
     "text": [
      "sixteen\n"
     ]
    },
    {
     "name": "stderr",
     "output_type": "stream",
     "text": [
      "I0000 00:00:1708240085.298307       1 gl_context.cc:344] GL version: 2.1 (2.1 Metal - 83.1), renderer: Apple M1\n",
      "I0000 00:00:1708240085.305097       1 gl_context.cc:344] GL version: 2.1 (2.1 Metal - 83.1), renderer: Apple M1\n"
     ]
    },
    {
     "name": "stdout",
     "output_type": "stream",
     "text": [
      "principal\n"
     ]
    },
    {
     "name": "stderr",
     "output_type": "stream",
     "text": [
      "I0000 00:00:1708240089.615295       1 gl_context.cc:344] GL version: 2.1 (2.1 Metal - 83.1), renderer: Apple M1\n",
      "I0000 00:00:1708240089.623081       1 gl_context.cc:344] GL version: 2.1 (2.1 Metal - 83.1), renderer: Apple M1\n"
     ]
    },
    {
     "name": "stdout",
     "output_type": "stream",
     "text": [
      "enormous\n"
     ]
    },
    {
     "name": "stderr",
     "output_type": "stream",
     "text": [
      "I0000 00:00:1708240101.493695       1 gl_context.cc:344] GL version: 2.1 (2.1 Metal - 83.1), renderer: Apple M1\n",
      "I0000 00:00:1708240101.501001       1 gl_context.cc:344] GL version: 2.1 (2.1 Metal - 83.1), renderer: Apple M1\n"
     ]
    },
    {
     "name": "stdout",
     "output_type": "stream",
     "text": [
      "coach\n"
     ]
    },
    {
     "name": "stderr",
     "output_type": "stream",
     "text": [
      "I0000 00:00:1708240108.489794       1 gl_context.cc:344] GL version: 2.1 (2.1 Metal - 83.1), renderer: Apple M1\n",
      "Context leak detected, msgtracer returned -1\n",
      "I0000 00:00:1708240108.498562       1 gl_context.cc:344] GL version: 2.1 (2.1 Metal - 83.1), renderer: Apple M1\n"
     ]
    },
    {
     "name": "stdout",
     "output_type": "stream",
     "text": [
      "mix\n"
     ]
    },
    {
     "name": "stderr",
     "output_type": "stream",
     "text": [
      "I0000 00:00:1708240113.330252       1 gl_context.cc:344] GL version: 2.1 (2.1 Metal - 83.1), renderer: Apple M1\n",
      "I0000 00:00:1708240113.336811       1 gl_context.cc:344] GL version: 2.1 (2.1 Metal - 83.1), renderer: Apple M1\n"
     ]
    },
    {
     "name": "stdout",
     "output_type": "stream",
     "text": [
      "coconut\n"
     ]
    },
    {
     "name": "stderr",
     "output_type": "stream",
     "text": [
      "I0000 00:00:1708240117.305869       1 gl_context.cc:344] GL version: 2.1 (2.1 Metal - 83.1), renderer: Apple M1\n",
      "I0000 00:00:1708240117.313038       1 gl_context.cc:344] GL version: 2.1 (2.1 Metal - 83.1), renderer: Apple M1\n"
     ]
    },
    {
     "name": "stdout",
     "output_type": "stream",
     "text": [
      "fire\n"
     ]
    },
    {
     "name": "stderr",
     "output_type": "stream",
     "text": [
      "I0000 00:00:1708240120.577736       1 gl_context.cc:344] GL version: 2.1 (2.1 Metal - 83.1), renderer: Apple M1\n",
      "I0000 00:00:1708240120.584424       1 gl_context.cc:344] GL version: 2.1 (2.1 Metal - 83.1), renderer: Apple M1\n"
     ]
    },
    {
     "name": "stdout",
     "output_type": "stream",
     "text": [
      "dangerous\n"
     ]
    },
    {
     "name": "stderr",
     "output_type": "stream",
     "text": [
      "I0000 00:00:1708240124.300723       1 gl_context.cc:344] GL version: 2.1 (2.1 Metal - 83.1), renderer: Apple M1\n",
      "I0000 00:00:1708240124.307030       1 gl_context.cc:344] GL version: 2.1 (2.1 Metal - 83.1), renderer: Apple M1\n"
     ]
    },
    {
     "name": "stdout",
     "output_type": "stream",
     "text": [
      "miss\n"
     ]
    },
    {
     "name": "stderr",
     "output_type": "stream",
     "text": [
      "I0000 00:00:1708240129.582687       1 gl_context.cc:344] GL version: 2.1 (2.1 Metal - 83.1), renderer: Apple M1\n",
      "I0000 00:00:1708240129.589154       1 gl_context.cc:344] GL version: 2.1 (2.1 Metal - 83.1), renderer: Apple M1\n"
     ]
    },
    {
     "name": "stdout",
     "output_type": "stream",
     "text": [
      "french\n"
     ]
    },
    {
     "name": "stderr",
     "output_type": "stream",
     "text": [
      "I0000 00:00:1708240141.220498       1 gl_context.cc:344] GL version: 2.1 (2.1 Metal - 83.1), renderer: Apple M1\n",
      "I0000 00:00:1708240141.227664       1 gl_context.cc:344] GL version: 2.1 (2.1 Metal - 83.1), renderer: Apple M1\n"
     ]
    },
    {
     "name": "stdout",
     "output_type": "stream",
     "text": [
      "cuba\n"
     ]
    },
    {
     "name": "stderr",
     "output_type": "stream",
     "text": [
      "I0000 00:00:1708240146.738120       1 gl_context.cc:344] GL version: 2.1 (2.1 Metal - 83.1), renderer: Apple M1\n",
      "I0000 00:00:1708240146.744631       1 gl_context.cc:344] GL version: 2.1 (2.1 Metal - 83.1), renderer: Apple M1\n"
     ]
    },
    {
     "name": "stdout",
     "output_type": "stream",
     "text": [
      "pause\n"
     ]
    },
    {
     "name": "stderr",
     "output_type": "stream",
     "text": [
      "I0000 00:00:1708240149.550643       1 gl_context.cc:344] GL version: 2.1 (2.1 Metal - 83.1), renderer: Apple M1\n",
      "I0000 00:00:1708240149.557371       1 gl_context.cc:344] GL version: 2.1 (2.1 Metal - 83.1), renderer: Apple M1\n"
     ]
    },
    {
     "name": "stdout",
     "output_type": "stream",
     "text": [
      "clueless\n"
     ]
    },
    {
     "name": "stderr",
     "output_type": "stream",
     "text": [
      "Context leak detected, msgtracer returned -1\n",
      "I0000 00:00:1708240152.416500       1 gl_context.cc:344] GL version: 2.1 (2.1 Metal - 83.1), renderer: Apple M1\n",
      "I0000 00:00:1708240152.423411       1 gl_context.cc:344] GL version: 2.1 (2.1 Metal - 83.1), renderer: Apple M1\n"
     ]
    },
    {
     "name": "stdout",
     "output_type": "stream",
     "text": [
      "trip\n"
     ]
    },
    {
     "name": "stderr",
     "output_type": "stream",
     "text": [
      "I0000 00:00:1708240158.736468       1 gl_context.cc:344] GL version: 2.1 (2.1 Metal - 83.1), renderer: Apple M1\n",
      "I0000 00:00:1708240158.744103       1 gl_context.cc:344] GL version: 2.1 (2.1 Metal - 83.1), renderer: Apple M1\n"
     ]
    },
    {
     "name": "stdout",
     "output_type": "stream",
     "text": [
      "act\n"
     ]
    },
    {
     "name": "stderr",
     "output_type": "stream",
     "text": [
      "I0000 00:00:1708240163.034669       1 gl_context.cc:344] GL version: 2.1 (2.1 Metal - 83.1), renderer: Apple M1\n",
      "I0000 00:00:1708240163.041152       1 gl_context.cc:344] GL version: 2.1 (2.1 Metal - 83.1), renderer: Apple M1\n"
     ]
    },
    {
     "name": "stdout",
     "output_type": "stream",
     "text": [
      "arrest\n"
     ]
    },
    {
     "name": "stderr",
     "output_type": "stream",
     "text": [
      "I0000 00:00:1708240165.117653       1 gl_context.cc:344] GL version: 2.1 (2.1 Metal - 83.1), renderer: Apple M1\n",
      "I0000 00:00:1708240165.126896       1 gl_context.cc:344] GL version: 2.1 (2.1 Metal - 83.1), renderer: Apple M1\n"
     ]
    },
    {
     "name": "stdout",
     "output_type": "stream",
     "text": [
      "weight\n"
     ]
    },
    {
     "name": "stderr",
     "output_type": "stream",
     "text": [
      "I0000 00:00:1708240173.683663       1 gl_context.cc:344] GL version: 2.1 (2.1 Metal - 83.1), renderer: Apple M1\n",
      "I0000 00:00:1708240173.691460       1 gl_context.cc:344] GL version: 2.1 (2.1 Metal - 83.1), renderer: Apple M1\n"
     ]
    },
    {
     "name": "stdout",
     "output_type": "stream",
     "text": [
      "pound\n"
     ]
    },
    {
     "name": "stderr",
     "output_type": "stream",
     "text": [
      "I0000 00:00:1708240194.060316       1 gl_context.cc:344] GL version: 2.1 (2.1 Metal - 83.1), renderer: Apple M1\n",
      "I0000 00:00:1708240194.071009       1 gl_context.cc:344] GL version: 2.1 (2.1 Metal - 83.1), renderer: Apple M1\n"
     ]
    },
    {
     "name": "stdout",
     "output_type": "stream",
     "text": [
      "iran\n"
     ]
    },
    {
     "name": "stderr",
     "output_type": "stream",
     "text": [
      "I0000 00:00:1708240238.930592       1 gl_context.cc:344] GL version: 2.1 (2.1 Metal - 83.1), renderer: Apple M1\n",
      "I0000 00:00:1708240239.421286       1 gl_context.cc:344] GL version: 2.1 (2.1 Metal - 83.1), renderer: Apple M1\n"
     ]
    },
    {
     "name": "stdout",
     "output_type": "stream",
     "text": [
      "come here\n"
     ]
    },
    {
     "name": "stderr",
     "output_type": "stream",
     "text": [
      "I0000 00:00:1708240250.404936       1 gl_context.cc:344] GL version: 2.1 (2.1 Metal - 83.1), renderer: Apple M1\n",
      "I0000 00:00:1708240250.439846       1 gl_context.cc:344] GL version: 2.1 (2.1 Metal - 83.1), renderer: Apple M1\n"
     ]
    },
    {
     "name": "stdout",
     "output_type": "stream",
     "text": [
      "like\n"
     ]
    },
    {
     "name": "stderr",
     "output_type": "stream",
     "text": [
      "I0000 00:00:1708240254.882464       1 gl_context.cc:344] GL version: 2.1 (2.1 Metal - 83.1), renderer: Apple M1\n",
      "Context leak detected, msgtracer returned -1\n",
      "I0000 00:00:1708240254.889629       1 gl_context.cc:344] GL version: 2.1 (2.1 Metal - 83.1), renderer: Apple M1\n"
     ]
    },
    {
     "name": "stdout",
     "output_type": "stream",
     "text": [
      "discover\n"
     ]
    },
    {
     "ename": "",
     "evalue": "",
     "output_type": "error",
     "traceback": [
      "\u001b[1;31mCannot execute code, session has been disposed. Please try restarting the Kernel."
     ]
    },
    {
     "ename": "",
     "evalue": "",
     "output_type": "error",
     "traceback": [
      "\u001b[1;31mThe Kernel crashed while executing code in the the current cell or a previous cell. Please review the code in the cell(s) to identify a possible cause of the failure. Click <a href='https://aka.ms/vscodeJupyterKernelCrash'>here</a> for more info. View Jupyter <a href='command:jupyter.viewOutput'>log</a> for further details."
     ]
    }
   ],
   "source": [
    "# Go through each video in the original file set and generate the face and hand key-point mappings for it.\n",
    "import os\n",
    "from time import time\n",
    "\n",
    "# Specify the folder path\n",
    "folder_path = 'videos'\n",
    "\n",
    "# Get a list of all files in the folder\n",
    "files = os.listdir(folder_path)\n",
    "\n",
    "# Iterate through each file and print its name\n",
    "t = time()\n",
    "for file_name in files:\n",
    "    if os.path.splitext(file_name)[0].isdigit() and os.path.splitext(file_name)[0] in video_words.keys():\n",
    "        video_id = os.path.splitext(file_name)[0]\n",
    "        generate_keypoints(video_id)\n",
    "\n",
    "print(f\"Time to Generate Key-points: {time() - t} seconds\")\n"
   ]
  }
 ],
 "metadata": {
  "kernelspec": {
   "display_name": "Python 3",
   "language": "python",
   "name": "python3"
  },
  "language_info": {
   "codemirror_mode": {
    "name": "ipython",
    "version": 3
   },
   "file_extension": ".py",
   "mimetype": "text/x-python",
   "name": "python",
   "nbconvert_exporter": "python",
   "pygments_lexer": "ipython3",
   "version": "3.10.11"
  },
  "orig_nbformat": 4
 },
 "nbformat": 4,
 "nbformat_minor": 2
}
